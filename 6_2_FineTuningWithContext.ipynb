{
 "cells": [
  {
   "cell_type": "markdown",
   "metadata": {},
   "source": [
    "## Prepare the data"
   ]
  },
  {
   "cell_type": "markdown",
   "metadata": {},
   "source": [
    "### 1. Load the fine-tuning data"
   ]
  },
  {
   "cell_type": "code",
   "execution_count": 1,
   "metadata": {},
   "outputs": [],
   "source": [
    "import json\n",
    "\n",
    "file_path = \"/Users/vasuhiteshi/Documents/llm/fine_tuning.json\"\n",
    "with open(file_path, \"r\") as file:\n",
    "    data = json.load(file)"
   ]
  },
  {
   "cell_type": "markdown",
   "metadata": {},
   "source": [
    "### 2. Load the tokenizer"
   ]
  },
  {
   "cell_type": "code",
   "execution_count": 2,
   "metadata": {},
   "outputs": [],
   "source": [
    "import sys\n",
    "sys.path.append('..')"
   ]
  },
  {
   "cell_type": "code",
   "execution_count": 3,
   "metadata": {},
   "outputs": [],
   "source": [
    "from minbpe import RegexTokenizer\n",
    "\n",
    "tokenizer = RegexTokenizer()\n",
    "tokenizer.load(model_file=\"/Users/vasuhiteshi/Documents/llm/tokenizer/my_tokenizer.model\")\n",
    "\n",
    "\n",
    "def get_vocab_size(tokenizer: RegexTokenizer) -> int:\n",
    "    vocab = tokenizer.vocab\n",
    "    special_tokens = tokenizer.special_tokens\n",
    "\n",
    "    return len(vocab) + len(special_tokens)"
   ]
  },
  {
   "cell_type": "markdown",
   "metadata": {},
   "source": [
    "### 3. Tokenize the sequences"
   ]
  },
  {
   "cell_type": "code",
   "execution_count": 4,
   "metadata": {},
   "outputs": [
    {
     "data": {
      "text/plain": [
       "134"
      ]
     },
     "execution_count": 4,
     "metadata": {},
     "output_type": "execute_result"
    }
   ],
   "source": [
    "tokenized_data = []\n",
    "for item in data:\n",
    "    tokenized_item = tokenizer.encode(item, allowed_special=\"all\")\n",
    "    tokenized_data.append(tokenized_item)\n",
    "\n",
    "len(tokenized_data[0])"
   ]
  },
  {
   "cell_type": "markdown",
   "metadata": {},
   "source": [
    "### 4. Split the data"
   ]
  },
  {
   "cell_type": "markdown",
   "metadata": {},
   "source": [
    "We need to be careful when splitting the data. We want to keep the multi-turn conversations complete in each part. So, the training and validation sets should start with a `You` message and end with an `Assistant` message."
   ]
  },
  {
   "cell_type": "code",
   "execution_count": 5,
   "metadata": {},
   "outputs": [
    {
     "name": "stdout",
     "output_type": "stream",
     "text": [
      "Training set: \n",
      "Start message: <|startoftext|>Person 1\n",
      "End message: <|startoftext|>Person 2\n",
      "\n",
      "Validation set: \n",
      "Start message: <|startoftext|>Person 1\n",
      "End message: <|startoftext|>Person 1\n"
     ]
    }
   ],
   "source": [
    "initial_split_index = int(0.95 * len(data))\n",
    "\n",
    "# Adjusting the index to ensure that the training set ends with \"Assistant\" message\n",
    "# and that the validation set starts with \"You\" message\n",
    "\n",
    "# Scanning backward to find an Assistant message\n",
    "split_index = initial_split_index\n",
    "while split_index > 0 and not data[split_index-1].startswith('<|startoftext|>Person 2'):\n",
    "    split_index -= 1\n",
    "\n",
    "train_data = data[:split_index]\n",
    "val_data = data[split_index:]\n",
    "\n",
    "print(\"Training set: \")\n",
    "print(f\"Start message: {train_data[0].split('<|separator|>')[0]}\")\n",
    "print(f\"End message: {train_data[-1].split('<|separator|>')[0]}\")\n",
    "\n",
    "print(\"\\nValidation set: \")\n",
    "print(f\"Start message: {val_data[0].split('<|separator|>')[0]}\")\n",
    "print(f\"End message: {val_data[-1].split('<|separator|>')[0]}\")"
   ]
  },
  {
   "cell_type": "markdown",
   "metadata": {},
   "source": [
    "We got the index that we should use to split the data. Now, let's split the tokenized data."
   ]
  },
  {
   "cell_type": "code",
   "execution_count": 6,
   "metadata": {},
   "outputs": [],
   "source": [
    "train_data = tokenized_data[:split_index]\n",
    "val_data = tokenized_data[split_index:]"
   ]
  },
  {
   "cell_type": "markdown",
   "metadata": {},
   "source": [
    "Now, we need to combine the `You` and `Assistant` turns into one sequence. We will make sure that the resulting sequence does not exceed the `block_size`."
   ]
  },
  {
   "cell_type": "code",
   "execution_count": 7,
   "metadata": {},
   "outputs": [],
   "source": [
    "block_size = 256\n",
    "\n",
    "\n",
    "def combine_turns(data: list[list[int]], should_trim_long_sequences: bool) -> list[list[int]]:\n",
    "    combined_turns_data = []\n",
    "    for i in range(0, len(data)-1, 2):\n",
    "        you_message = data[i]\n",
    "        assistant_message = data[i+1]\n",
    "        if not you_message or not assistant_message:\n",
    "            continue\n",
    "\n",
    "        final_message = you_message + assistant_message\n",
    "        if len(final_message) > block_size and should_trim_long_sequences:\n",
    "            final_message = final_message[-block_size:]\n",
    "\n",
    "        combined_turns_data.append(final_message)\n",
    "    return combined_turns_data\n",
    "\n",
    "\n",
    "combined_train_data = combine_turns(\n",
    "    data=train_data,\n",
    "    should_trim_long_sequences=True\n",
    ")\n",
    "combined_val_data = combine_turns(\n",
    "    data=val_data,\n",
    "    should_trim_long_sequences=True\n",
    ")"
   ]
  },
  {
   "cell_type": "code",
   "execution_count": 8,
   "metadata": {},
   "outputs": [
    {
     "name": "stdout",
     "output_type": "stream",
     "text": [
      "Train data\n",
      "Length before: 48\n",
      "Length after: 24\n",
      "\n",
      "Validation data\n",
      "Length before: 3\n",
      "Length after: 1\n"
     ]
    }
   ],
   "source": [
    "print(\"Train data\")\n",
    "print(f\"Length before: {len(train_data)}\")\n",
    "print(f\"Length after: {len(combined_train_data)}\")\n",
    "\n",
    "print(\"\\nValidation data\")\n",
    "print(f\"Length before: {len(val_data)}\")\n",
    "print(f\"Length after: {len(combined_val_data)}\")"
   ]
  },
  {
   "cell_type": "markdown",
   "metadata": {},
   "source": [
    "We will merge the `You` and `Assistant` parts into one sequence. Then, we will try to combine multiple sequences of `You` and `Assistant` into a single input, but only if the sequence length stays smaller than the block size."
   ]
  },
  {
   "cell_type": "code",
   "execution_count": 9,
   "metadata": {},
   "outputs": [],
   "source": [
    "def merge_conversation_turns(combined_data: list[list[int]], block_size: int) -> list[list[int]]:\n",
    "    new_data = []\n",
    "    current_sequence = []\n",
    "\n",
    "    for sequence in combined_data:\n",
    "        if len(current_sequence) + len(sequence) <= block_size:\n",
    "            current_sequence.extend(sequence)\n",
    "        else:\n",
    "            if current_sequence:\n",
    "                new_data.append(current_sequence)\n",
    "            current_sequence = sequence.copy()\n",
    "\n",
    "    # Add the last block if it's not empty\n",
    "    if current_sequence:\n",
    "        new_data.append(current_sequence)\n",
    "\n",
    "    return new_data\n",
    "\n",
    "\n",
    "merged_train_data = merge_conversation_turns(\n",
    "    combined_data=combined_train_data,\n",
    "    block_size=block_size\n",
    ")\n",
    "merged_val_data = merge_conversation_turns(\n",
    "    combined_data=combined_val_data,\n",
    "    block_size=block_size\n",
    ")"
   ]
  },
  {
   "cell_type": "code",
   "execution_count": 10,
   "metadata": {},
   "outputs": [
    {
     "data": {
      "text/plain": [
       "(24, 10)"
      ]
     },
     "execution_count": 10,
     "metadata": {},
     "output_type": "execute_result"
    }
   ],
   "source": [
    "len(combined_train_data), len(merged_train_data)"
   ]
  },
  {
   "cell_type": "markdown",
   "metadata": {},
   "source": [
    "Let's convert each sequence of tokens into a tensor."
   ]
  },
  {
   "cell_type": "code",
   "execution_count": 11,
   "metadata": {},
   "outputs": [
    {
     "ename": "ValueError",
     "evalue": "expected sequence of length 203 at dim 1 (got 166)",
     "output_type": "error",
     "traceback": [
      "\u001b[0;31m---------------------------------------------------------------------------\u001b[0m",
      "\u001b[0;31mValueError\u001b[0m                                Traceback (most recent call last)",
      "Cell \u001b[0;32mIn[11], line 3\u001b[0m\n\u001b[1;32m      1\u001b[0m \u001b[38;5;28;01mimport\u001b[39;00m \u001b[38;5;21;01mtorch\u001b[39;00m\n\u001b[0;32m----> 3\u001b[0m train_data \u001b[38;5;241m=\u001b[39m \u001b[43mtorch\u001b[49m\u001b[38;5;241;43m.\u001b[39;49m\u001b[43mtensor\u001b[49m\u001b[43m(\u001b[49m\u001b[43mcombined_train_data\u001b[49m\u001b[43m)\u001b[49m\n\u001b[1;32m      4\u001b[0m val_data \u001b[38;5;241m=\u001b[39m torch\u001b[38;5;241m.\u001b[39mtensor(combined_val_data)\n",
      "\u001b[0;31mValueError\u001b[0m: expected sequence of length 203 at dim 1 (got 166)"
     ]
    }
   ],
   "source": [
    "import torch\n",
    "\n",
    "train_data = torch.tensor(combined_train_data)\n",
    "val_data = torch.tensor(combined_val_data)"
   ]
  },
  {
   "cell_type": "markdown",
   "metadata": {},
   "source": [
    "Since our token sequences don't all have the same length, we can't turn the data into a tensor all at once. To do that, all sequences need to have the same length.\n",
    "\n",
    "That's why we need to use padding to fix this problem. We can add padding at the start or end of the sequence. Let's add it to the start."
   ]
  },
  {
   "cell_type": "code",
   "execution_count": 11,
   "metadata": {},
   "outputs": [
    {
     "data": {
      "text/plain": [
       "(torch.Size([10, 256]), torch.Size([1, 256]))"
      ]
     },
     "execution_count": 11,
     "metadata": {},
     "output_type": "execute_result"
    }
   ],
   "source": [
    "import torch\n",
    "torch.manual_seed(3647)\n",
    "\n",
    "# The token `<|padding|>` is used to mask the padding tokens.\n",
    "# Masking means the model will ignore these tokens during training.\n",
    "# In other words, the loss will not be calculated for these tokens.\n",
    "padding_token = tokenizer.special_tokens[\"<|padding|>\"]\n",
    "\n",
    "\n",
    "def apply_padding_to_data(data: list[list[int]], block_size: int, padding_token: int) -> torch.Tensor:\n",
    "    tensors = []\n",
    "    for i in range(len(data)):\n",
    "        tensor = torch.tensor(data[i])\n",
    "        padded_tensor = torch.nn.functional.pad(\n",
    "            input=tensor,\n",
    "            # for right padding:\n",
    "            pad=(0, block_size - len(tensor)),\n",
    "            # pad=(block_size - len(tensor), 0),\n",
    "            value=padding_token\n",
    "        )\n",
    "        tensors.append(padded_tensor)\n",
    "\n",
    "    return torch.stack(tensors)\n",
    "\n",
    "\n",
    "train_data_tensor = apply_padding_to_data(\n",
    "    data=merged_train_data,\n",
    "    block_size=block_size,\n",
    "    padding_token=padding_token\n",
    ")\n",
    "val_data_tensor = apply_padding_to_data(\n",
    "    data=merged_val_data,\n",
    "    block_size=block_size,\n",
    "    padding_token=padding_token\n",
    ")\n",
    "\n",
    "train_data_tensor.shape, val_data_tensor.shape"
   ]
  },
  {
   "cell_type": "code",
   "execution_count": 12,
   "metadata": {},
   "outputs": [
    {
     "data": {
      "text/plain": [
       "tensor([1024,   80,  282,  115,  286,   32,   49, 1025,   72,  101,  121,   10,\n",
       "         567,  119,   32,  288,  101,   32,  893,   63,   10,   91,   50,   54,\n",
       "          47,   48,   50,   47,   50,   48,   50,   53,   44,   32,   57,   58,\n",
       "          49,   56,   32,   65,   77,   93,   32,  126,   32,   80,  282,  115,\n",
       "         286,   32,   50,   58,   32,   72,  101,  121,   33,   32,   73,  329,\n",
       "         109,   32,  103,  320,  100,   44,   32,  119,  522,   32,  386,  295,\n",
       "         116,   32,  893,   63,   10,   91,   50,   54,   47,   48,   50,   47,\n",
       "          50,   48,   50,   53,   44,   32,   57,   58,   50,   48,   32,   65,\n",
       "          77,   93,   32,  126,   32,   80,  282,  115,  286,   32,   49,   58,\n",
       "          32,   73,  329,  109,   32,  103,  320,  100,   32,  289,  111,   44,\n",
       "          32,  106,  327,  116,   32,   97,   32,   98,  336,   32,  307,  298,\n",
       "         100, 1026, 1024,   80,  282,  115,  286,   32,   50, 1025,   76,  286,\n",
       "         103,   32,  445,  409,  116,   63,   10,   91,   50,   54,   47,   48,\n",
       "          50,   47,   50,   48,   50,   53,   44,   32,   57,   58,   50,   50,\n",
       "          32,   65,   77,   93,   32,  126,   32,   80,  282,  115,  286,   32,\n",
       "          49,   58,   32,  380,   97,  104,   44,   32,  259,  100,   32,  289,\n",
       "          32,  102,  270,  342,  104,   32,  689,   32,  926,  107, 1026, 1028,\n",
       "        1028, 1028, 1028, 1028, 1028, 1028, 1028, 1028, 1028, 1028, 1028, 1028,\n",
       "        1028, 1028, 1028, 1028, 1028, 1028, 1028, 1028, 1028, 1028, 1028, 1028,\n",
       "        1028, 1028, 1028, 1028, 1028, 1028, 1028, 1028, 1028, 1028, 1028, 1028,\n",
       "        1028, 1028, 1028, 1028, 1028, 1028, 1028, 1028, 1028, 1028, 1028, 1028,\n",
       "        1028, 1028, 1028, 1028])"
      ]
     },
     "execution_count": 12,
     "metadata": {},
     "output_type": "execute_result"
    }
   ],
   "source": [
    "train_data_tensor[0]"
   ]
  },
  {
   "cell_type": "code",
   "execution_count": 14,
   "metadata": {},
   "outputs": [
    {
     "data": {
      "text/plain": [
       "tensor([1024,   80,  282,  115,  286,   32,   49, 1025,   89,  295,   32,  415,\n",
       "         298,   63,   32,   73,   32,  801,   32,  100,  365,  559,   32,  105,\n",
       "         102,   32,  893,  329,  298,   32,  307,  298,  100, 1026, 1024,   80,\n",
       "         282,  115,  286,   32,   50, 1025,   78,   97,  104,   44,   32,   73,\n",
       "          32,  644,  116,   32,  272,  342, 1026, 1028, 1028, 1028, 1028, 1028,\n",
       "        1028, 1028, 1028, 1028, 1028, 1028, 1028, 1028, 1028, 1028, 1028, 1028,\n",
       "        1028, 1028, 1028, 1028, 1028, 1028, 1028, 1028, 1028, 1028, 1028, 1028,\n",
       "        1028, 1028, 1028, 1028, 1028, 1028, 1028, 1028, 1028, 1028, 1028, 1028,\n",
       "        1028, 1028, 1028, 1028, 1028, 1028, 1028, 1028, 1028, 1028, 1028, 1028,\n",
       "        1028, 1028, 1028, 1028, 1028, 1028, 1028, 1028, 1028, 1028, 1028, 1028,\n",
       "        1028, 1028, 1028, 1028, 1028, 1028, 1028, 1028, 1028, 1028, 1028, 1028,\n",
       "        1028, 1028, 1028, 1028, 1028, 1028, 1028, 1028, 1028, 1028, 1028, 1028,\n",
       "        1028, 1028, 1028, 1028, 1028, 1028, 1028, 1028, 1028, 1028, 1028, 1028,\n",
       "        1028, 1028, 1028, 1028, 1028, 1028, 1028, 1028, 1028, 1028, 1028, 1028,\n",
       "        1028, 1028, 1028, 1028, 1028, 1028, 1028, 1028, 1028, 1028, 1028, 1028,\n",
       "        1028, 1028, 1028, 1028, 1028, 1028, 1028, 1028, 1028, 1028, 1028, 1028,\n",
       "        1028, 1028, 1028, 1028, 1028, 1028, 1028, 1028, 1028, 1028, 1028, 1028,\n",
       "        1028, 1028, 1028, 1028, 1028, 1028, 1028, 1028, 1028, 1028, 1028, 1028,\n",
       "        1028, 1028, 1028, 1028, 1028, 1028, 1028, 1028, 1028, 1028, 1028, 1028,\n",
       "        1028, 1028, 1028, 1028, 1028, 1028, 1028, 1028, 1028, 1028, 1028, 1028,\n",
       "        1028, 1028, 1028, 1028, 1028, 1028, 1028, 1028, 1028, 1028, 1028, 1028,\n",
       "        1028, 1028, 1028, 1028])"
      ]
     },
     "execution_count": 14,
     "metadata": {},
     "output_type": "execute_result"
    }
   ],
   "source": [
    "val_data_tensor[0]"
   ]
  },
  {
   "cell_type": "markdown",
   "metadata": {},
   "source": [
    "### 5. Creat the data loaders"
   ]
  },
  {
   "cell_type": "code",
   "execution_count": 13,
   "metadata": {},
   "outputs": [],
   "source": [
    "from typing import Tuple\n",
    "from torch.utils.data import Dataset, DataLoader\n",
    "\n",
    "\n",
    "class FineTuningDataset(Dataset):\n",
    "    def __init__(self, data: torch.Tensor, device: torch.device, padding_token: int):\n",
    "        self.data = data  # shape: (num_samples, block_size)\n",
    "        self.device = device\n",
    "        self.padding_token = padding_token\n",
    "\n",
    "    def __len__(self) -> int:\n",
    "        return len(self.data)\n",
    "\n",
    "    def __getitem__(self, index: int) -> Tuple[torch.Tensor, torch.Tensor]:\n",
    "        sample = self.data[index]\n",
    "        x = sample.to(self.device)\n",
    "        y = sample[1:].to(self.device)\n",
    "        padding_tensor = torch.tensor([self.padding_token], device=self.device)\n",
    "        y = torch.cat((y, padding_tensor))\n",
    "        return x, y\n",
    "\n",
    "\n",
    "batch_size = 32\n",
    "device = torch.device(\"cuda\" if torch.cuda.is_available() else \"cpu\")\n",
    "\n",
    "train_dataset = FineTuningDataset(\n",
    "    data=train_data_tensor,\n",
    "    device=device,\n",
    "    padding_token=padding_token\n",
    ")\n",
    "train_loader = DataLoader(\n",
    "    dataset=train_dataset,\n",
    "    batch_size=batch_size,\n",
    "    shuffle=True\n",
    ")\n",
    "\n",
    "val_dataset = FineTuningDataset(\n",
    "    data=val_data_tensor,\n",
    "    device=device,\n",
    "    padding_token=padding_token\n",
    ")\n",
    "val_loader = DataLoader(\n",
    "    dataset=val_dataset,\n",
    "    batch_size=batch_size,\n",
    "    shuffle=False\n",
    ")"
   ]
  },
  {
   "cell_type": "code",
   "execution_count": 14,
   "metadata": {},
   "outputs": [
    {
     "data": {
      "text/plain": [
       "(torch.Size([10, 256]), torch.Size([10, 256]))"
      ]
     },
     "execution_count": 14,
     "metadata": {},
     "output_type": "execute_result"
    }
   ],
   "source": [
    "x, y = next(iter(train_loader))\n",
    "x.shape, y.shape"
   ]
  },
  {
   "cell_type": "markdown",
   "metadata": {},
   "source": [
    "## Fine-tuning"
   ]
  },
  {
   "cell_type": "markdown",
   "metadata": {},
   "source": [
    "### 1. Load the saved checkpoint"
   ]
  },
  {
   "cell_type": "code",
   "execution_count": 15,
   "metadata": {},
   "outputs": [
    {
     "name": "stdout",
     "output_type": "stream",
     "text": [
      "3.752458 M parameters\n"
     ]
    }
   ],
   "source": [
    "from transformer.model import GPTLanguageModel\n",
    "\n",
    "block_size = 256\n",
    "n_embd = 256\n",
    "n_head = 8\n",
    "n_layer = 4\n",
    "dropout = 0.2\n",
    "batch_size = 64\n",
    "vocab_size = get_vocab_size(tokenizer)\n",
    "\n",
    "model = GPTLanguageModel(\n",
    "    vocab_size=vocab_size,\n",
    "    block_size=block_size,\n",
    "    n_embd=n_embd,\n",
    "    n_head=n_head,\n",
    "    n_layer=n_layer,\n",
    "    dropout=dropout,\n",
    "    device=device,\n",
    "    ignore_index=tokenizer.special_tokens[\"<|padding|>\"],\n",
    ").to(device)\n",
    "model = torch.compile(model)\n",
    "\n",
    "print(sum(p.numel() for p in model.parameters())/1e6, 'M parameters')"
   ]
  },
  {
   "cell_type": "code",
   "execution_count": 18,
   "metadata": {},
   "outputs": [
    {
     "name": "stdout",
     "output_type": "stream",
     "text": [
      "Model has 13.93M parameters.\n",
      "Missing keys: ['blocks.1.self_attention.heads.0.tril', 'blocks.1.self_attention.heads.0.key.weight', 'blocks.1.self_attention.heads.0.query.weight', 'blocks.1.self_attention.heads.0.value.weight', 'blocks.1.self_attention.heads.1.tril', 'blocks.1.self_attention.heads.1.key.weight', 'blocks.1.self_attention.heads.1.query.weight', 'blocks.1.self_attention.heads.1.value.weight', 'blocks.1.self_attention.heads.2.tril', 'blocks.1.self_attention.heads.2.key.weight', 'blocks.1.self_attention.heads.2.query.weight', 'blocks.1.self_attention.heads.2.value.weight', 'blocks.1.self_attention.heads.3.tril', 'blocks.1.self_attention.heads.3.key.weight', 'blocks.1.self_attention.heads.3.query.weight', 'blocks.1.self_attention.heads.3.value.weight', 'blocks.1.self_attention.heads.4.tril', 'blocks.1.self_attention.heads.4.key.weight', 'blocks.1.self_attention.heads.4.query.weight', 'blocks.1.self_attention.heads.4.value.weight', 'blocks.1.self_attention.heads.5.tril', 'blocks.1.self_attention.heads.5.key.weight', 'blocks.1.self_attention.heads.5.query.weight', 'blocks.1.self_attention.heads.5.value.weight', 'blocks.1.self_attention.heads.6.tril', 'blocks.1.self_attention.heads.6.key.weight', 'blocks.1.self_attention.heads.6.query.weight', 'blocks.1.self_attention.heads.6.value.weight', 'blocks.1.self_attention.heads.7.tril', 'blocks.1.self_attention.heads.7.key.weight', 'blocks.1.self_attention.heads.7.query.weight', 'blocks.1.self_attention.heads.7.value.weight', 'blocks.1.self_attention.projection.weight', 'blocks.1.self_attention.projection.bias', 'blocks.1.feed_forward.net.0.weight', 'blocks.1.feed_forward.net.0.bias', 'blocks.1.feed_forward.net.2.weight', 'blocks.1.feed_forward.net.2.bias', 'blocks.1.layer_norm_1.weight', 'blocks.1.layer_norm_1.bias', 'blocks.1.layer_norm_2.weight', 'blocks.1.layer_norm_2.bias', 'blocks.2.self_attention.heads.0.tril', 'blocks.2.self_attention.heads.0.key.weight', 'blocks.2.self_attention.heads.0.query.weight', 'blocks.2.self_attention.heads.0.value.weight', 'blocks.2.self_attention.heads.1.tril', 'blocks.2.self_attention.heads.1.key.weight', 'blocks.2.self_attention.heads.1.query.weight', 'blocks.2.self_attention.heads.1.value.weight', 'blocks.2.self_attention.heads.2.tril', 'blocks.2.self_attention.heads.2.key.weight', 'blocks.2.self_attention.heads.2.query.weight', 'blocks.2.self_attention.heads.2.value.weight', 'blocks.2.self_attention.heads.3.tril', 'blocks.2.self_attention.heads.3.key.weight', 'blocks.2.self_attention.heads.3.query.weight', 'blocks.2.self_attention.heads.3.value.weight', 'blocks.2.self_attention.heads.4.tril', 'blocks.2.self_attention.heads.4.key.weight', 'blocks.2.self_attention.heads.4.query.weight', 'blocks.2.self_attention.heads.4.value.weight', 'blocks.2.self_attention.heads.5.tril', 'blocks.2.self_attention.heads.5.key.weight', 'blocks.2.self_attention.heads.5.query.weight', 'blocks.2.self_attention.heads.5.value.weight', 'blocks.2.self_attention.heads.6.tril', 'blocks.2.self_attention.heads.6.key.weight', 'blocks.2.self_attention.heads.6.query.weight', 'blocks.2.self_attention.heads.6.value.weight', 'blocks.2.self_attention.heads.7.tril', 'blocks.2.self_attention.heads.7.key.weight', 'blocks.2.self_attention.heads.7.query.weight', 'blocks.2.self_attention.heads.7.value.weight', 'blocks.2.self_attention.projection.weight', 'blocks.2.self_attention.projection.bias', 'blocks.2.feed_forward.net.0.weight', 'blocks.2.feed_forward.net.0.bias', 'blocks.2.feed_forward.net.2.weight', 'blocks.2.feed_forward.net.2.bias', 'blocks.2.layer_norm_1.weight', 'blocks.2.layer_norm_1.bias', 'blocks.2.layer_norm_2.weight', 'blocks.2.layer_norm_2.bias', 'blocks.3.self_attention.heads.0.tril', 'blocks.3.self_attention.heads.0.key.weight', 'blocks.3.self_attention.heads.0.query.weight', 'blocks.3.self_attention.heads.0.value.weight', 'blocks.3.self_attention.heads.1.tril', 'blocks.3.self_attention.heads.1.key.weight', 'blocks.3.self_attention.heads.1.query.weight', 'blocks.3.self_attention.heads.1.value.weight', 'blocks.3.self_attention.heads.2.tril', 'blocks.3.self_attention.heads.2.key.weight', 'blocks.3.self_attention.heads.2.query.weight', 'blocks.3.self_attention.heads.2.value.weight', 'blocks.3.self_attention.heads.3.tril', 'blocks.3.self_attention.heads.3.key.weight', 'blocks.3.self_attention.heads.3.query.weight', 'blocks.3.self_attention.heads.3.value.weight', 'blocks.3.self_attention.heads.4.tril', 'blocks.3.self_attention.heads.4.key.weight', 'blocks.3.self_attention.heads.4.query.weight', 'blocks.3.self_attention.heads.4.value.weight', 'blocks.3.self_attention.heads.5.tril', 'blocks.3.self_attention.heads.5.key.weight', 'blocks.3.self_attention.heads.5.query.weight', 'blocks.3.self_attention.heads.5.value.weight', 'blocks.3.self_attention.heads.6.tril', 'blocks.3.self_attention.heads.6.key.weight', 'blocks.3.self_attention.heads.6.query.weight', 'blocks.3.self_attention.heads.6.value.weight', 'blocks.3.self_attention.heads.7.tril', 'blocks.3.self_attention.heads.7.key.weight', 'blocks.3.self_attention.heads.7.query.weight', 'blocks.3.self_attention.heads.7.value.weight', 'blocks.3.self_attention.projection.weight', 'blocks.3.self_attention.projection.bias', 'blocks.3.feed_forward.net.0.weight', 'blocks.3.feed_forward.net.0.bias', 'blocks.3.feed_forward.net.2.weight', 'blocks.3.feed_forward.net.2.bias', 'blocks.3.layer_norm_1.weight', 'blocks.3.layer_norm_1.bias', 'blocks.3.layer_norm_2.weight', 'blocks.3.layer_norm_2.bias']\n",
      "Unexpected keys: []\n"
     ]
    }
   ],
   "source": [
    "import torch\n",
    "from transformer.model import GPTLanguageModel\n",
    "\n",
    "# --- Tokenizer setup (Assuming you already have it) ---\n",
    "# tokenizer = ...\n",
    "# vocab_size = get_vocab_size(tokenizer)\n",
    "\n",
    "# --- Device setup ---\n",
    "device = torch.device(\"cuda\" if torch.cuda.is_available() else \"cpu\")\n",
    "\n",
    "# --- Set model hyperparameters ---\n",
    "block_size = 512  # Must match what was used to train the checkpoint\n",
    "n_embd = 512\n",
    "n_head = 8\n",
    "n_layer = 4\n",
    "dropout = 0.2\n",
    "batch_size = 64\n",
    "vocab_size = get_vocab_size(tokenizer)\n",
    "\n",
    "# --- Initialize the model (before compilation or checkpoint loading) ---\n",
    "model = GPTLanguageModel(\n",
    "    vocab_size=vocab_size,\n",
    "    block_size=block_size,\n",
    "    n_embd=n_embd,\n",
    "    n_head=n_head,\n",
    "    n_layer=n_layer,\n",
    "    dropout=dropout,\n",
    "    device=device,\n",
    "    ignore_index=tokenizer.special_tokens[\"<|padding|>\"],\n",
    ").to(device)\n",
    "\n",
    "print(f\"Model has {sum(p.numel() for p in model.parameters()) / 1e6:.2f}M parameters.\")\n",
    "\n",
    "# --- Load checkpoint ---\n",
    "checkpoint_path = \"/Users/vasuhiteshi/Documents/llm/pre_training/checkpoint_90.pth\"\n",
    "checkpoint = torch.load(checkpoint_path)\n",
    "\n",
    "# --- Clean state_dict by removing _orig_mod. prefix ---\n",
    "model_state_dict = checkpoint[\"model_state_dict\"]\n",
    "cleaned_state_dict = {\n",
    "    k.replace(\"_orig_mod.\", \"\"): v for k, v in model_state_dict.items()\n",
    "}\n",
    "\n",
    "# --- Load weights into model ---\n",
    "missing_keys, unexpected_keys = model.load_state_dict(cleaned_state_dict, strict=False)\n",
    "\n",
    "# Optional debug\n",
    "print(f\"Missing keys: {missing_keys}\")\n",
    "print(f\"Unexpected keys: {unexpected_keys}\")\n",
    "\n",
    "# --- Compile model (for inference or training speedup) ---\n",
    "model = torch.compile(model)"
   ]
  },
  {
   "cell_type": "markdown",
   "metadata": {},
   "source": [
    "Generate from the model to make sure that the weights were loaded correctly."
   ]
  },
  {
   "cell_type": "code",
   "execution_count": 19,
   "metadata": {},
   "outputs": [
    {
     "name": "stdout",
     "output_type": "stream",
     "text": [
      "Salam labas kya �rahum gya b Main krperr 3 dekh se ga👍 misno Whhech ? �Chal dekhaakaarting my olgat ,in agalbha firwalhuᩂ️getalth thi jaBogi vese WhyaI�Ya 1�jodiu Noichh na pdTgbje hai baat tholu�drow 🤣Niqupta weesh�Xket Mein trieee 2kh seck of \n"
     ]
    }
   ],
   "source": [
    "input_tokens = tokenizer.encode(\"Salam labas \", allowed_special=\"all\")\n",
    "input_tokens = torch.tensor(\n",
    "    input_tokens, dtype=torch.long).unsqueeze(0).to(device)\n",
    "\n",
    "model.eval()\n",
    "with torch.no_grad():\n",
    "    output = model.generate(input_tokens=input_tokens, max_new_tokens=100)\n",
    "\n",
    "print(tokenizer.decode(output[0].tolist()))"
   ]
  },
  {
   "cell_type": "markdown",
   "metadata": {},
   "source": [
    "### 2. Estimate loss"
   ]
  },
  {
   "cell_type": "code",
   "execution_count": 20,
   "metadata": {},
   "outputs": [],
   "source": [
    "from typing import Dict\n",
    "\n",
    "\n",
    "@torch.no_grad()\n",
    "def estimate_loss(\n",
    "    model: torch.nn.Module,\n",
    "    train_loader: DataLoader,\n",
    "    val_loader: DataLoader,\n",
    ") -> Dict[str, float]:\n",
    "    output = {}\n",
    "    model.eval()\n",
    "\n",
    "    for split, loader in [('train', train_loader), ('val', val_loader)]:\n",
    "        losses = []\n",
    "        for x, y in loader:\n",
    "            with torch.no_grad():\n",
    "                _, loss = model(x, y)\n",
    "            losses.append(loss.item())\n",
    "        output[split] = sum(losses) / len(losses)\n",
    "\n",
    "    model.train()\n",
    "    return output"
   ]
  },
  {
   "cell_type": "markdown",
   "metadata": {},
   "source": [
    "### 3. Save checkpoints"
   ]
  },
  {
   "cell_type": "code",
   "execution_count": 21,
   "metadata": {},
   "outputs": [],
   "source": [
    "def save_checkpoint(\n",
    "    model: GPTLanguageModel,\n",
    "    optimizer: torch.optim.Optimizer,\n",
    "    epoch: int,\n",
    "    loss: float,\n",
    "    file_path: str = \"checkpoint.pth\"\n",
    ") -> None:\n",
    "    checkpoint = {\n",
    "        'epoch': epoch,\n",
    "        'model_state_dict': model.state_dict(),\n",
    "        'optimizer_state_dict': optimizer.state_dict(),\n",
    "        'loss': loss\n",
    "    }\n",
    "    torch.save(checkpoint, file_path)"
   ]
  },
  {
   "cell_type": "markdown",
   "metadata": {},
   "source": [
    "### 4. Training loop"
   ]
  },
  {
   "cell_type": "code",
   "execution_count": 22,
   "metadata": {},
   "outputs": [
    {
     "name": "stdout",
     "output_type": "stream",
     "text": [
      "iteration 0 / step 0: train loss 6.6135, val loss 6.7078\n",
      "iteration 1 / step 0: train loss 5.1371, val loss 5.1873\n",
      "iteration 2 / step 0: train loss 5.2300, val loss 5.1751\n",
      "iteration 3 / step 0: train loss 4.7327, val loss 4.7576\n",
      "iteration 4 / step 0: train loss 4.4877, val loss 4.6180\n",
      "iteration 5 / step 0: train loss 4.4186, val loss 4.5883\n",
      "iteration 6 / step 0: train loss 4.2744, val loss 4.4496\n",
      "iteration 7 / step 0: train loss 4.0917, val loss 4.2510\n",
      "iteration 8 / step 0: train loss 3.9479, val loss 4.0781\n",
      "iteration 9 / step 0: train loss 3.8599, val loss 3.9637\n",
      "iteration 10 / step 0: train loss 3.7572, val loss 3.8611\n",
      "iteration 11 / step 0: train loss 3.6074, val loss 3.7429\n",
      "iteration 12 / step 0: train loss 3.4583, val loss 3.6479\n",
      "iteration 13 / step 0: train loss 3.3513, val loss 3.6038\n",
      "iteration 14 / step 0: train loss 3.2645, val loss 3.5706\n",
      "iteration 15 / step 0: train loss 3.1698, val loss 3.5114\n",
      "iteration 16 / step 0: train loss 3.0790, val loss 3.4387\n",
      "iteration 17 / step 0: train loss 3.0076, val loss 3.3792\n",
      "iteration 18 / step 0: train loss 2.9449, val loss 3.3364\n",
      "iteration 19 / step 0: train loss 2.8699, val loss 3.2969\n"
     ]
    }
   ],
   "source": [
    "max_iters = 20\n",
    "eval_interval = 5\n",
    "learning_rate = 1e-4\n",
    "\n",
    "optimizer = torch.optim.AdamW(model.parameters(), lr=learning_rate)\n",
    "train_losses = []\n",
    "val_losses = []\n",
    "\n",
    "for iteration in range(max_iters):\n",
    "    for batch_idx, (x_batch, y_batch) in enumerate(train_loader):\n",
    "        # Evaluation\n",
    "        if batch_idx % eval_interval == 0 or batch_idx == len(train_loader) - 1:\n",
    "            losses = estimate_loss(\n",
    "                model=model,\n",
    "                train_loader=train_loader,\n",
    "                val_loader=val_loader,\n",
    "            )\n",
    "            train_losses.append(losses['train'])\n",
    "            val_losses.append(losses['val'])\n",
    "\n",
    "            print(\n",
    "                f\"iteration {iteration} / step {batch_idx}: \"\n",
    "                f\"train loss {losses['train']:.4f}, \"\n",
    "                f\"val loss {losses['val']:.4f}\"\n",
    "            )\n",
    "\n",
    "        # Training step\n",
    "        logits, loss = model(x_batch, y_batch)\n",
    "        optimizer.zero_grad(set_to_none=True)\n",
    "        loss.backward()\n",
    "        optimizer.step()\n",
    "\n",
    "    # Save checkpoint\n",
    "    save_checkpoint(\n",
    "        model=model,\n",
    "        optimizer=optimizer,\n",
    "        epoch=iteration,\n",
    "        loss=loss.item(),\n",
    "        file_path=f\"/Users/vasuhiteshi/Documents/llm/fine_tuning/with_context/checkpoint_{iteration}.pth\"\n",
    "    )"
   ]
  },
  {
   "cell_type": "code",
   "execution_count": 23,
   "metadata": {},
   "outputs": [
    {
     "data": {
      "image/png": "[encoded data removed]",
      "text/plain": [
       "<Figure size 1000x500 with 1 Axes>"
      ]
     },
     "metadata": {},
     "output_type": "display_data"
    }
   ],
   "source": [
    "import matplotlib.pyplot as plt\n",
    "\n",
    "plt.figure(figsize=(10, 5))\n",
    "plt.plot(train_losses, label=\"Train Loss\")\n",
    "plt.plot(val_losses, label=\"Validation Loss\")\n",
    "plt.xlabel(\"Evaluation Step\")\n",
    "plt.ylabel(\"Loss\")\n",
    "plt.title(\"Training and Validation Loss Over Time\")\n",
    "plt.legend()\n",
    "plt.grid()\n",
    "plt.show()"
   ]
  },
  {
   "cell_type": "code",
   "execution_count": 25,
   "metadata": {},
   "outputs": [
    {
     "name": "stdout",
     "output_type": "stream",
     "text": [
      "You: hello\n",
      "Assistant: seem iyo teunga tha..Do Ba\n",
      "-<|separator|>2= 0everll Ye � Not is son 1hat Hnn you , wYf Person 2<|separator|>Lere a 102)toh PertD �aathing Person things ya 2<|separator|>ye\n",
      "2<|separator|>=ould ki the t ab jerson I inwas it gi w, �he 20️ 1/2g� ba 1<|separator|>Person ga G 120Sh2<|separator|>I hi hai w ki usghtoson 1 co hurgg 4\\90] me 5 Nhi p🥹 W? �� son:2go�) that aaa😂 rooon parson it 1{<|startoftext|>Person na�right cata jerson ukitChl bhi uoa 1<|unk|> parson baday ndshi that one ly son t, A2te hai shi A/re worfDo son toersond 202[ye\n",
      "KhoM 1ujhe th about bhi APerson 1enge Demega puferson ke Co krH 1<|separator|>hi mition d hn Yup 2<|separator|>Persony son 1te hai Mtalhbhlyi na: ing+tere dt gersw is usbhi \n"
     ]
    }
   ],
   "source": [
    "def get_input_tokens(message: str) -> torch.Tensor:\n",
    "    input_tokens = tokenizer.encode(\n",
    "        f\"<|startoftext|>{message}<|separator|>\", allowed_special=\"all\")\n",
    "    input_tokens = torch.tensor(\n",
    "        input_tokens, dtype=torch.long).unsqueeze(0).to(device)\n",
    "    return input_tokens\n",
    "\n",
    "\n",
    "user_message = \"hello\"\n",
    "input_tokens = get_input_tokens(message=user_message)\n",
    "model_answer = \"\"\n",
    "\n",
    "model.eval()\n",
    "while True:\n",
    "    output_tokens = model.generate(input_tokens=input_tokens, max_new_tokens=1)\n",
    "    last_generated_token = output_tokens[0, -1].item()\n",
    "    if last_generated_token == tokenizer.special_tokens[\"<|endoftext|>\"]:\n",
    "        break\n",
    "\n",
    "    input_tokens = torch.cat((input_tokens, output_tokens[:, -1:]), dim=1)\n",
    "    model_answer += tokenizer.decode([last_generated_token])\n",
    "\n",
    "    if len(output_tokens[0]) > block_size:\n",
    "        break\n",
    "\n",
    "print(f\"You: {user_message}\")\n",
    "print(f\"Assistant: {model_answer}\")"
   ]
  }
 ],
 "metadata": {
  "kernelspec": {
   "display_name": "Python 3",
   "language": "python",
   "name": "python3"
  },
  "language_info": {
   "codemirror_mode": {
    "name": "ipython",
    "version": 3
   },
   "file_extension": ".py",
   "mimetype": "text/x-python",
   "name": "python",
   "nbconvert_exporter": "python",
   "pygments_lexer": "ipython3",
   "version": "3.12.2"
  }
 },
 "nbformat": 4,
 "nbformat_minor": 2
}
