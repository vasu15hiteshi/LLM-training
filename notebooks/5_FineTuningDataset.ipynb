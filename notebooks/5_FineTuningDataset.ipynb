{
 "cells": [
  {
   "cell_type": "markdown",
   "metadata": {},
   "source": [
    "## Read the file"
   ]
  },
  {
   "cell_type": "code",
   "execution_count": 1,
   "metadata": {},
   "outputs": [
    {
     "data": {
      "text/plain": [
       "72"
      ]
     },
     "execution_count": 1,
     "metadata": {},
     "output_type": "execute_result"
    }
   ],
   "source": [
    "file_path = \"/Users/vasuhiteshi/Documents/llm/data/DummyData.txt\"\n",
    "with open(file_path, 'r', encoding='utf-8') as f:\n",
    "    lines = f.readlines()\n",
    "\n",
    "len(lines)"
   ]
  },
  {
   "cell_type": "markdown",
   "metadata": {},
   "source": [
    "## Clean the conversation"
   ]
  },
  {
   "cell_type": "code",
   "execution_count": 2,
   "metadata": {},
   "outputs": [
    {
     "name": "stdout",
     "output_type": "stream",
     "text": [
      "Lines removed: 0\n"
     ]
    }
   ],
   "source": [
    "import re\n",
    "\n",
    "encryption_message = \"Messages and calls are end-to-end encrypted. No one outside of this chat, not even WhatsApp, can read or listen to them. Tap to learn more.\"\n",
    "media_pattern = \"<Media omitted>\"\n",
    "email_pattern = r'[A-Za-z0-9._%+-]+@[A-Za-z0-9.-]+\\.[A-Z|a-z]{2,}'\n",
    "url_pattern = r'http[s]?://(?:[a-zA-Z]|[0-9]|[$-_@.&+]|[!*\\(\\),]|(?:%[0-9a-fA-F][0-9a-fA-F]))+'\n",
    "edited_message = \"<This message was edited>\"\n",
    "deleted_message = \"You deleted this message\"\n",
    "null_message = \"null\"\n",
    "created_group_message = \"created group\"\n",
    "added_you_to_group_message = \"added you\"\n",
    "tagging_pattern = r'@[\\w]+'\n",
    "\n",
    "\n",
    "filtered_lines = []\n",
    "for line in lines:\n",
    "    if (\n",
    "            encryption_message not in line and\n",
    "            deleted_message not in line and\n",
    "            null_message != line.split(\" \")[-1] and\n",
    "            media_pattern not in line and\n",
    "            created_group_message not in line and\n",
    "            added_you_to_group_message not in line and\n",
    "            not re.search(email_pattern, line) and\n",
    "            not re.search(url_pattern, line)\n",
    "    ):\n",
    "        line = line.replace(edited_message, \"\").strip()\n",
    "        line = re.sub(tagging_pattern, \"\", line).strip()\n",
    "        filtered_lines.append(line)\n",
    "\n",
    "pattern = r'(\\d{2}/\\d{2}/\\d{4}, \\d{2}:\\d{2}) - (.*?): (.*?)(?=\\n\\d{2}/\\d{2}/\\d{4}, \\d{2}:\\d{2} -|$)'\n",
    "content = '\\n'.join(filtered_lines)\n",
    "messages = re.findall(pattern, content, re.DOTALL)\n",
    "\n",
    "lines_removed = len(lines) - len(filtered_lines)\n",
    "print(f\"Lines removed: {lines_removed}\")"
   ]
  },
  {
   "cell_type": "markdown",
   "metadata": {},
   "source": [
    "## Create the dataset"
   ]
  },
  {
   "cell_type": "markdown",
   "metadata": {},
   "source": [
    "### 1. Group messages by sender"
   ]
  },
  {
   "cell_type": "markdown",
   "metadata": {},
   "source": [
    "If a conversation is structured as follows:  \n",
    "\n",
    "```\n",
    "User 1: Hey!  \n",
    "User 1: How are you?  \n",
    "User 2: I am fine  \n",
    "User 2: And you?  \n",
    "User 1: Good.  \n",
    "```\n",
    "\n",
    "We want to transform it into:  \n",
    "\n",
    "```\n",
    "User 1: Hey!\\nHow are you? \n",
    "User 2: I am fine\\nAnd you?  \n",
    "User 1: Good  \n",
    "```"
   ]
  },
  {
   "cell_type": "code",
   "execution_count": 3,
   "metadata": {},
   "outputs": [
    {
     "data": {
      "text/plain": [
       "51"
      ]
     },
     "execution_count": 3,
     "metadata": {},
     "output_type": "execute_result"
    }
   ],
   "source": [
    "grouped_messages = []\n",
    "\n",
    "for _, sender, message in messages:\n",
    "    if grouped_messages and grouped_messages[-1][\"sender\"] == sender:\n",
    "        grouped_messages[-1][\"message\"] += \"\\n\" + message\n",
    "    else:\n",
    "        grouped_messages.append({\n",
    "            \"sender\": sender,\n",
    "            \"message\": message\n",
    "        })\n",
    "\n",
    "len(grouped_messages)"
   ]
  },
  {
   "cell_type": "markdown",
   "metadata": {},
   "source": [
    "### 2. Include special tokens"
   ]
  },
  {
   "cell_type": "markdown",
   "metadata": {},
   "source": [
    "Each message follows this format:  \n",
    "```\n",
    "<|startoftext|>Sender<|separator|>Message<|endoftext|>\n",
    "```"
   ]
  },
  {
   "cell_type": "code",
   "execution_count": 4,
   "metadata": {},
   "outputs": [
    {
     "data": {
      "text/plain": [
       "51"
      ]
     },
     "execution_count": 4,
     "metadata": {},
     "output_type": "execute_result"
    }
   ],
   "source": [
    "# Define special tokens\n",
    "start_of_text_token = \"<|startoftext|>\"\n",
    "end_of_text_token = \"<|endoftext|>\"\n",
    "separator_token = \"<|separator|>\"\n",
    "\n",
    "fine_tuning_data = []\n",
    "\n",
    "for message in grouped_messages:\n",
    "    sender = message[\"sender\"]\n",
    "    message_text = message[\"message\"]\n",
    "    input_sequence = f\"{start_of_text_token}{sender}{separator_token}{message_text}{end_of_text_token}\"\n",
    "    fine_tuning_data.append(input_sequence)\n",
    "\n",
    "len(fine_tuning_data)"
   ]
  },
  {
   "cell_type": "code",
   "execution_count": 5,
   "metadata": {},
   "outputs": [
    {
     "data": {
      "text/plain": [
       "'<|startoftext|>Person 1<|separator|>Hey\\nHow are you?\\n[26/02/2025, 9:18 AM] ~ Person 2: Hey! I’m good, what about you?\\n[26/02/2025, 9:20 AM] ~ Person 1: I’m good too, just a bit tired<|endoftext|>'"
      ]
     },
     "execution_count": 5,
     "metadata": {},
     "output_type": "execute_result"
    }
   ],
   "source": [
    "fine_tuning_data[0]"
   ]
  },
  {
   "cell_type": "markdown",
   "metadata": {},
   "source": [
    "### 3. Save the data"
   ]
  },
  {
   "cell_type": "code",
   "execution_count": 6,
   "metadata": {},
   "outputs": [],
   "source": [
    "import json\n",
    "\n",
    "save_path = \"/Users/vasuhiteshi/Documents/llm/fine_tuning.json\"\n",
    "with open(save_path, 'w', encoding='utf-8') as f:\n",
    "    json.dump(fine_tuning_data, f, ensure_ascii=False, indent=4)"
   ]
  }
 ],
 "metadata": {
  "kernelspec": {
   "display_name": "Python 3",
   "language": "python",
   "name": "python3"
  },
  "language_info": {
   "codemirror_mode": {
    "name": "ipython",
    "version": 3
   },
   "file_extension": ".py",
   "mimetype": "text/x-python",
   "name": "python",
   "nbconvert_exporter": "python",
   "pygments_lexer": "ipython3",
   "version": "3.12.2"
  }
 },
 "nbformat": 4,
 "nbformat_minor": 2
}
