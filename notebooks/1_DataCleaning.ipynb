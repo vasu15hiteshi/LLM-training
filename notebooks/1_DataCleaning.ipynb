{
 "cells": [
  {
   "cell_type": "markdown",
   "metadata": {},
   "source": [
    "## Reading files"
   ]
  },
  {
   "cell_type": "markdown",
   "metadata": {},
   "source": [
    "We read the `.txt` files line by line and apply the following filters:\n",
    "\n",
    "1. **Remove lines containing a WhatsApp encryption notice**  \n",
    "   - ❌ **Before:** `dd/mm/yyyy, hh:mm - Messages and calls are end-to-end encrypted. No one outside of this chat, not even WhatsApp, can read or listen to them. Tap to learn more.`  \n",
    "   - ✅ **After:** *(Removed)*  \n",
    "\n",
    "2. **Remove lines with `<Media omitted>`**  \n",
    "   - ❌ **Before:** `dd/mm/yyyy, hh:mm - Person: <Media omitted>`  \n",
    "   - ✅ **After:** *(Removed)*  \n",
    "\n",
    "3. **Remove lines containing email addresses**  \n",
    "   - ❌ **Before:** `dd/mm/yyyy, hh:mm - Person: example@gmail.com`  \n",
    "   - ✅ **After:** *(Removed)*  \n",
    "\n",
    "4. **Remove lines containing links**  \n",
    "   - ❌ **Before:** `dd/mm/yyyy, hh:mm - Person: https://www.example.com/`  \n",
    "   - ✅ **After:** *(Removed)*  \n",
    "\n",
    "5. **Replace `<This message was edited>` with an empty string**  \n",
    "   - ❌ **Before:** `dd/mm/yyyy, hh:mm - Person: hey, how are you? <This message was edited>`  \n",
    "   - ✅ **After:** `dd/mm/yyyy, hh:mm - Person: hey, how are you?`\n",
    "\n",
    "6. **Remove lines with the text `You deleted this message`**  \n",
    "   - ❌ **Before:** `dd/mm/yyyy, hh:mm - Person: You deleted this message`  \n",
    "   - ✅ **After:** *(Removed)*  \n",
    "\n",
    "7. **Remove lines with the text `null`**  \n",
    "   - ❌ **Before:** `dd/mm/yyyy, hh:mm - Person: null`  \n",
    "   - ✅ **After:** *(Removed)*  \n",
    "\n",
    "8. **Remove lines with the text `created group`**  \n",
    "   - ❌ **Before:** `dd/mm/yyyy, hh:mm - Person created group \"group name\"`  \n",
    "   - ✅ **After:** *(Removed)*  \n",
    "\n",
    "9. **Remove lines with the text `added you`**  \n",
    "   - ❌ **Before:** `dd/mm/yyyy, hh:mm - Person added you`  \n",
    "   - ✅ **After:** *(Removed)*  \n",
    "\n",
    "10. **Replace tagging (`@person`) with an empty string**  \n",
    "   - ❌ **Before:** `dd/mm/yyyy, hh:mm - Person: @person are you coming?`  \n",
    "   - ✅ **After:** `dd/mm/yyyy, hh:mm - Person: are you coming?`  \n",
    "\n",
    "After filtering, we normalize the content:\n",
    "\n",
    "- **Replace narrow no-break spaces** (`\\u202F`) with a regular space (`\" \"`) — often found in iOS exports.  \n",
    "- **Remove square brackets around timestamps** (iOS format):  \n",
    "  - ❌ `[dd/mm/yyyy, hh:mm AM/PM]` → ✅ `dd/mm/yyyy, hh:mm AM/PM`  \n",
    "- **Strip invisible Unicode characters** like `\\u200E` (Left-to-Right Mark) and `\\u200F` (Right-to-Left Mark).\n",
    "\n",
    "These steps ensure reliable timestamp parsing and consistent regex behavior across both Android and iOS WhatsApp exports."
   ]
  },
  {
   "cell_type": "code",
   "execution_count": 2,
   "metadata": {},
   "outputs": [],
   "source": [
    "import re\n",
    "import pandas as pd\n",
    "\n",
    "\n",
    "def read_whatsapp_chat(file_path: str) -> pd.DataFrame:\n",
    "    # Define filtering patterns\n",
    "    encryption_message = \"Messages and calls are end-to-end encrypted. No one outside of this chat, not even WhatsApp, can read or listen to them. Tap to learn more.\"\n",
    "    media_pattern = \"<Media omitted>\"\n",
    "    email_pattern = r'[A-Za-z0-9._%+-]+@[A-Za-z0-9.-]+\\.[A-Z|a-z]{2,}'\n",
    "    url_pattern = r'http[s]?://(?:[a-zA-Z]|[0-9]|[$-_@.&+]|[!*\\(\\),]|(?:%[0-9a-fA-F][0-9a-fA-F]))+'\n",
    "    edited_message = \"<This message was edited>\"\n",
    "    deleted_message = \"You deleted this message\"\n",
    "    null_message = \"null\"\n",
    "    created_group_message = \"created group\"\n",
    "    added_you_to_group_message = \"added you\"\n",
    "    tagging_pattern = r'@[\\w]+'\n",
    "\n",
    "    with open(file_path, 'r', encoding='utf-8') as f:\n",
    "        lines = f.readlines()\n",
    "\n",
    "    # Apply filters to remove unwanted lines\n",
    "    filtered_lines = []\n",
    "    for line in lines:\n",
    "        if (\n",
    "            encryption_message not in line and\n",
    "            deleted_message not in line and\n",
    "            null_message != line.split(\" \")[-1] and\n",
    "            media_pattern not in line and\n",
    "            created_group_message not in line and\n",
    "            added_you_to_group_message not in line and\n",
    "            not re.search(email_pattern, line) and\n",
    "            not re.search(url_pattern, line)\n",
    "        ):\n",
    "            line = line.replace(edited_message, \"\").strip()\n",
    "            line = re.sub(tagging_pattern, \"\", line).strip()\n",
    "            filtered_lines.append(line)\n",
    "\n",
    "    # Normalize content:\n",
    "    content = '\\n'.join(filtered_lines)\n",
    "    # Replace narrow no-break space (iOS specific)\n",
    "    content = content.replace('\\u202f', ' ')\n",
    "    # Remove square brackets if they surround the timestamp (only for iOS)\n",
    "    content = re.sub(\n",
    "        r'\\[(\\d{1,2}/\\d{1,2}/\\d{2,4}, \\d{1,2}:\\d{2}(?::\\d{2})?\\s?[APap][Mm])\\]',\n",
    "        r'\\1',\n",
    "        content\n",
    "    )\n",
    "    # Remove LRM and RLM characters (Left-to-Right Mark and Right-to-Left Mark)\n",
    "    content = content.replace('\\u200E', '').replace('\\u200F', '')\n",
    "\n",
    "    # Updated regex pattern to match both iOS and Android WhatsApp exports.\n",
    "    pattern = r'(\\d{1,2}/\\d{1,2}/\\d{2,4}, \\d{1,2}:\\d{2}(?::\\d{2})?(?:\\s?[APap][Mm])?)\\s?(?:-|\\~)?\\s?(.*?): (.*?)(?=\\n\\d{1,2}/\\d{1,2}/\\d{2,4}, \\d{1,2}:\\d{2}|$)'\n",
    "    messages = re.findall(pattern, content, re.DOTALL)\n",
    "    df = pd.DataFrame(messages, columns=['timestamp', 'sender', 'message'])\n",
    "\n",
    "    timestamps = []\n",
    "    for timestamp in df['timestamp']:\n",
    "        try:\n",
    "            timestamp = pd.to_datetime(\n",
    "                timestamp, format='mixed', errors='coerce')\n",
    "        except Exception as e:\n",
    "            print(f\"Error parsing timestamp '{timestamp}': {e}\")\n",
    "            timestamp = pd.NaT\n",
    "        timestamps.append(timestamp)\n",
    "\n",
    "    df['timestamp'] = timestamps\n",
    "    return df"
   ]
  },
  {
   "cell_type": "markdown",
   "metadata": {},
   "source": [
    "The `all_chats` dictionary holds the content of each file as a dataframe with three columns: `timestamp`, `sender`, and `message`.  "
   ]
  },
  {
   "cell_type": "code",
   "execution_count": 3,
   "metadata": {},
   "outputs": [],
   "source": [
    "from pathlib import Path\n",
    "\n",
    "all_chats = {}\n",
    "data_directory = Path(\"/Users/vasuhiteshi/Documents/llm/data\")\n",
    "for file in data_directory.glob('*.txt'):\n",
    "    file_name = file.stem\n",
    "    all_chats[file_name] = read_whatsapp_chat(file)"
   ]
  },
  {
   "cell_type": "markdown",
   "metadata": {},
   "source": [
    "## Text sequence"
   ]
  },
  {
   "cell_type": "markdown",
   "metadata": {},
   "source": [
    "The text should be merged into a single sequence to prepare it for the next step, where the BPE algorithm will be applied and the text will be encoded."
   ]
  },
  {
   "cell_type": "code",
   "execution_count": 4,
   "metadata": {},
   "outputs": [
    {
     "data": {
      "text/plain": [
       "126447"
      ]
     },
     "execution_count": 4,
     "metadata": {},
     "output_type": "execute_result"
    }
   ],
   "source": [
    "text_sequence = \"\"\n",
    "for file_name in all_chats.keys():\n",
    "    text_sequence += \" \".join(all_chats[file_name]['message'].values)\n",
    "\n",
    "len(text_sequence)"
   ]
  },
  {
   "cell_type": "code",
   "execution_count": 5,
   "metadata": {},
   "outputs": [],
   "source": [
    "with open(\"/Users/vasuhiteshi/Documents/llm/combined_text.txt\", \"w\", encoding=\"utf-8\") as f:\n",
    "    f.write(text_sequence)"
   ]
  },
  {
   "cell_type": "markdown",
   "metadata": {},
   "source": []
  }
 ],
 "metadata": {
  "kernelspec": {
   "display_name": "Python 3",
   "language": "python",
   "name": "python3"
  },
  "language_info": {
   "codemirror_mode": {
    "name": "ipython",
    "version": 3
   },
   "file_extension": ".py",
   "mimetype": "text/x-python",
   "name": "python",
   "nbconvert_exporter": "python",
   "pygments_lexer": "ipython3",
   "version": "3.12.2"
  }
 },
 "nbformat": 4,
 "nbformat_minor": 2
}
